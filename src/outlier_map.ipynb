{
 "cells": [
  {
   "cell_type": "markdown",
   "id": "e7066c4b-f5b7-49cb-b1a2-40d40a043e07",
   "metadata": {},
   "source": [
    "# Plot outlier data"
   ]
  },
  {
   "cell_type": "code",
   "execution_count": 1,
   "id": "20d98ce7-0be5-4e7b-ad18-271ecf83c3a7",
   "metadata": {},
   "outputs": [
    {
     "ename": "NameError",
     "evalue": "name 'pd' is not defined",
     "output_type": "error",
     "traceback": [
      "\u001b[0;31m---------------------------------------------------------------------------\u001b[0m",
      "\u001b[0;31mNameError\u001b[0m                                 Traceback (most recent call last)",
      "Input \u001b[0;32mIn [1]\u001b[0m, in \u001b[0;36m<cell line: 13>\u001b[0;34m()\u001b[0m\n\u001b[1;32m     11\u001b[0m gdf \u001b[38;5;241m=\u001b[39m geopandas\u001b[38;5;241m.\u001b[39mread_file(path_to_data, SHAPE_RESTORE_SHX\u001b[38;5;241m=\u001b[39m\u001b[38;5;124m\"\u001b[39m\u001b[38;5;124mYES\u001b[39m\u001b[38;5;124m\"\u001b[39m)\n\u001b[1;32m     12\u001b[0m gdf \u001b[38;5;241m=\u001b[39m gdf[gdf[\u001b[38;5;124m\"\u001b[39m\u001b[38;5;124mCOUNTYFP\u001b[39m\u001b[38;5;124m\"\u001b[39m] \u001b[38;5;241m==\u001b[39m \u001b[38;5;124m\"\u001b[39m\u001b[38;5;124m510\u001b[39m\u001b[38;5;124m\"\u001b[39m] \u001b[38;5;66;03m# Restrict to baltimore\u001b[39;00m\n\u001b[0;32m---> 13\u001b[0m outliers \u001b[38;5;241m=\u001b[39m \u001b[43mpd\u001b[49m\u001b[38;5;241m.\u001b[39mread_csv(fname)\n\u001b[1;32m     14\u001b[0m outliers \u001b[38;5;241m=\u001b[39m outliers\u001b[38;5;241m.\u001b[39mrename(columns\u001b[38;5;241m=\u001b[39m{\u001b[38;5;124m'\u001b[39m\u001b[38;5;124mFIPS\u001b[39m\u001b[38;5;124m'\u001b[39m: \u001b[38;5;124m'\u001b[39m\u001b[38;5;124mGEOID\u001b[39m\u001b[38;5;124m'\u001b[39m})\n\u001b[1;32m     15\u001b[0m outliers \u001b[38;5;241m=\u001b[39m outliers\u001b[38;5;241m.\u001b[39mastype({\u001b[38;5;124m'\u001b[39m\u001b[38;5;124mGEOID\u001b[39m\u001b[38;5;124m'\u001b[39m: \u001b[38;5;28mstr\u001b[39m})\n",
      "\u001b[0;31mNameError\u001b[0m: name 'pd' is not defined"
     ]
    }
   ],
   "source": [
    "import geopandas\n",
    "import pandas as pd\n",
    "\n",
    "segment = \"S000\"\n",
    "speed = 30\n",
    "threshold = 35\n",
    "var = \"gravity_sum\"\n",
    "fname = f\"../processed_data/outliers/{segment}/{speed}/{threshold}/pct_difference/{var}.csv\"\n",
    "\n",
    "\n",
    "path_to_data = \"../shape_files/baltimore.shp\"\n",
    "gdf = geopandas.read_file(path_to_data, SHAPE_RESTORE_SHX=\"YES\")\n",
    "gdf = gdf[gdf[\"COUNTYFP\"] == \"510\"] # Restrict to baltimore\n",
    "outliers = pd.read_csv(fname)\n",
    "outliers = outliers.rename(columns={'FIPS': 'GEOID'})\n",
    "outliers = outliers.astype({'GEOID': str})\n",
    "gdf = pd.merge(gdf, outliers, on=\"GEOID\", how=\"inner\")\n",
    "\n",
    "# Optionally mask out certain tracts if colors aren't informative\n",
    "if False:\n",
    "    mask = gdf[var] > 10\n",
    "    gdf_mask = gdf.loc[mask, :]\n",
    "else:\n",
    "    gdf_mask = gdf\n",
    "gdf_mask.explore(var) "
   ]
  }
 ],
 "metadata": {
  "kernelspec": {
   "display_name": "Python 3 (ipykernel)",
   "language": "python",
   "name": "python3"
  },
  "language_info": {
   "codemirror_mode": {
    "name": "ipython",
    "version": 3
   },
   "file_extension": ".py",
   "mimetype": "text/x-python",
   "name": "python",
   "nbconvert_exporter": "python",
   "pygments_lexer": "ipython3",
   "version": "3.10.4"
  }
 },
 "nbformat": 4,
 "nbformat_minor": 5
}
