{
 "cells": [
  {
   "cell_type": "markdown",
   "id": "757cb5a7-da2a-4b49-abeb-db4a96b32142",
   "metadata": {},
   "source": [
    "# Mapping SVI clusters\n",
    "\n",
    "We begin by loading the shape files for Baltimore."
   ]
  },
  {
   "cell_type": "code",
   "execution_count": null,
   "id": "f19bb001-6221-4367-9b14-fb7b0892babe",
   "metadata": {},
   "outputs": [],
   "source": [
    "import geopandas\n",
    "\n",
    "path_to_data = \"shape_files/baltimore.shp\"\n",
    "gdf = geopandas.read_file(path_to_data)\n",
    "gdf = gdf[gdf[\"COUNTYFP\"] == \"510\"] # Restrict to baltimore"
   ]
  },
  {
   "cell_type": "markdown",
   "id": "b6558397-a9b0-4bda-ae06-be053a2fc68c",
   "metadata": {},
   "source": [
    "We can now load in the clustered SVI data and merge it into the geopandas dataframe."
   ]
  },
  {
   "cell_type": "code",
   "execution_count": null,
   "id": "c08fb2e9-8614-4769-87b4-3dbaef35b65b",
   "metadata": {},
   "outputs": [],
   "source": [
    "import pandas as pd\n",
    "ids = pd.read_csv('processed_data/SVI_E_clustered.csv')  # UMAP clustering\n",
    "ids = ids.rename(columns={'FIPS': 'GEOID'})\n",
    "ids = ids.astype({'GEOID': str})\n",
    "gdf = pd.merge(gdf, ids, on=\"GEOID\")"
   ]
  },
  {
   "cell_type": "markdown",
   "id": "ea0cc3ef-9547-4150-9e11-ca298d8d2fa6",
   "metadata": {},
   "source": [
    "Then we can show the clusters on the map. Note that the two clusters approximately replicate the \"White L\" and \"Black Butterfly\"."
   ]
  },
  {
   "cell_type": "code",
   "execution_count": null,
   "id": "678a9e11-49da-4605-b163-45578b16aa64",
   "metadata": {},
   "outputs": [],
   "source": [
    "gdf.explore(\"cluster\") "
   ]
  }
 ],
 "metadata": {
  "kernelspec": {
   "display_name": "Python 3 (ipykernel)",
   "language": "python",
   "name": "python3"
  },
  "language_info": {
   "codemirror_mode": {
    "name": "ipython",
    "version": 3
   },
   "file_extension": ".py",
   "mimetype": "text/x-python",
   "name": "python",
   "nbconvert_exporter": "python",
   "pygments_lexer": "ipython3",
   "version": "3.10.4"
  }
 },
 "nbformat": 4,
 "nbformat_minor": 5
}
