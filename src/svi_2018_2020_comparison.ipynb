{
 "cells": [
  {
   "cell_type": "code",
   "execution_count": 1,
   "id": "40d34fff-b99a-46d1-9ba1-5abee94fdb90",
   "metadata": {},
   "outputs": [],
   "source": [
    "import pandas as pd\n",
    "import numpy as np\n",
    "from sklearn.preprocessing import StandardScaler"
   ]
  },
  {
   "cell_type": "code",
   "execution_count": 14,
   "id": "b74b3047-24c5-4cab-b7c2-f0349f82b20e",
   "metadata": {},
   "outputs": [],
   "source": [
    "filename = \"SVI_EP_2020_Standard_Scaled\"\n",
    "df_2020 = pd.read_csv(f\"../processed_data/{filename}_Summary_Index.csv\")\n",
    "filename = \"SVI_EP_Standard_Scaled\"\n",
    "df = pd.read_csv(f\"../processed_data/{filename}_Summary_Index.csv\")"
   ]
  },
  {
   "cell_type": "code",
   "execution_count": 50,
   "id": "2bad4a73-ac0c-4130-81f0-3caa6f424083",
   "metadata": {},
   "outputs": [
    {
     "data": {
      "text/plain": [
       "WilcoxonResult(statistic=9563.0, pvalue=0.9098835091622841)"
      ]
     },
     "execution_count": 50,
     "metadata": {},
     "output_type": "execute_result"
    }
   ],
   "source": [
    "total_df = df_2020.merge(df, on=\"FIPS\", how=\"inner\")\n",
    "from scipy.stats import wilcoxon\n",
    "wilcoxon(total_df[\"svi_socioecon_summary_x\"], total_df[\"svi_socioecon_summary_y\"])"
   ]
  },
  {
   "cell_type": "code",
   "execution_count": 58,
   "id": "d8ca5032-4005-4362-90db-9c30231ee0fa",
   "metadata": {},
   "outputs": [
    {
     "data": {
      "text/plain": [
       "{24510280600}"
      ]
     },
     "execution_count": 58,
     "metadata": {},
     "output_type": "execute_result"
    }
   ],
   "source": [
    "set(df_2020[\"FIPS\"]) - set(total_df[\"FIPS\"])"
   ]
  },
  {
   "cell_type": "code",
   "execution_count": null,
   "id": "36673993-6183-4b55-af9c-f10c3930b16a",
   "metadata": {},
   "outputs": [],
   "source": []
  }
 ],
 "metadata": {
  "kernelspec": {
   "display_name": "Python 3 (ipykernel)",
   "language": "python",
   "name": "python3"
  },
  "language_info": {
   "codemirror_mode": {
    "name": "ipython",
    "version": 3
   },
   "file_extension": ".py",
   "mimetype": "text/x-python",
   "name": "python",
   "nbconvert_exporter": "python",
   "pygments_lexer": "ipython3",
   "version": "3.10.4"
  }
 },
 "nbformat": 4,
 "nbformat_minor": 5
}
